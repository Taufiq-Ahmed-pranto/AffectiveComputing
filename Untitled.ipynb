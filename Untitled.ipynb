{
 "cells": [
  {
   "cell_type": "code",
   "execution_count": 2,
   "id": "a7442e0d",
   "metadata": {},
   "outputs": [
    {
     "name": "stdout",
     "output_type": "stream",
     "text": [
      "Feature names (n-grams):\n",
      "['আমি বাংলা' 'আমি ভালো' 'বাংলা ভাষা' 'বাংলা সাহিত্য' 'ভালো আছি'\n",
      " 'ভাষা ভালোবাসি' 'সাহিত্য অসাধারণ']\n",
      "N-gram features:\n",
      "[[0 1 0 0 1 0 0]\n",
      " [0 0 0 1 0 0 1]\n",
      " [1 0 1 0 0 1 0]]\n"
     ]
    }
   ],
   "source": [
    "from sklearn.feature_extraction.text import CountVectorizer\n",
    "\n",
    "# Sample Bangla text data\n",
    "bangla_corpus = [\n",
    "    \"আমি ভালো আছি\",\n",
    "    \"বাংলা সাহিত্য অসাধারণ\",\n",
    "    \"আমি বাংলা ভাষা ভালোবাসি\",\n",
    "]\n",
    "\n"
   ]
  },
  {
   "cell_type": "code",
   "execution_count": 3,
   "id": "51745029",
   "metadata": {},
   "outputs": [
    {
     "name": "stdout",
     "output_type": "stream",
     "text": [
      "         আম   খত   দর        পড়        বই\n",
      "0  1.000000  0.0  0.0  0.000000  0.000000\n",
      "1  0.000000  0.0  0.0  0.000000  0.000000\n",
      "2  0.000000  1.0  0.0  0.000000  0.000000\n",
      "3  0.000000  0.0  1.0  0.000000  0.000000\n",
      "4  0.495524  0.0  0.0  0.614189  0.614189\n"
     ]
    }
   ],
   "source": []
  },
  {
   "cell_type": "code",
   "execution_count": null,
   "id": "f74edcdf",
   "metadata": {},
   "outputs": [],
   "source": []
  }
 ],
 "metadata": {
  "kernelspec": {
   "display_name": "Python 3 (ipykernel)",
   "language": "python",
   "name": "python3"
  },
  "language_info": {
   "codemirror_mode": {
    "name": "ipython",
    "version": 3
   },
   "file_extension": ".py",
   "mimetype": "text/x-python",
   "name": "python",
   "nbconvert_exporter": "python",
   "pygments_lexer": "ipython3",
   "version": "3.11.4"
  }
 },
 "nbformat": 4,
 "nbformat_minor": 5
}
